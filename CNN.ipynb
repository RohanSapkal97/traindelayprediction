{
 "cells": [
  {
   "cell_type": "code",
   "execution_count": 1,
   "id": "1c1eb109",
   "metadata": {},
   "outputs": [],
   "source": [
    "import numpy as np\n",
    "import pandas as pd\n",
    "import tensorflow as tf\n",
    "from sklearn.model_selection import train_test_split\n",
    "from sklearn.preprocessing import StandardScaler\n",
    "from sklearn.metrics import mean_squared_error\n",
    "from tensorflow import keras\n",
    "from tensorflow.keras import layers"
   ]
  },
  {
   "cell_type": "code",
   "execution_count": 2,
   "id": "e8041ad9",
   "metadata": {},
   "outputs": [],
   "source": [
    "dataset = pd.read_csv(\"Regularities_by_liaisons_Trains_France.csv\")"
   ]
  },
  {
   "cell_type": "code",
   "execution_count": 3,
   "id": "2ca2911b",
   "metadata": {},
   "outputs": [
    {
     "name": "stdout",
     "output_type": "stream",
     "text": [
      "<class 'pandas.core.frame.DataFrame'>\n",
      "RangeIndex: 7806 entries, 0 to 7805\n",
      "Data columns (total 32 columns):\n",
      " #   Column                                                                                                               Non-Null Count  Dtype  \n",
      "---  ------                                                                                                               --------------  -----  \n",
      " 0   Year                                                                                                                 7806 non-null   int64  \n",
      " 1   Month                                                                                                                7806 non-null   float64\n",
      " 2   Departure station                                                                                                    7806 non-null   object \n",
      " 3   Arrival station                                                                                                      7806 non-null   object \n",
      " 4   Average travel time (min)                                                                                            7743 non-null   float64\n",
      " 5   Number of expected circulations                                                                                      7743 non-null   float64\n",
      " 6   Number of cancelled trains                                                                                           7806 non-null   float64\n",
      " 7   Number of late trains at departure                                                                                   7806 non-null   float64\n",
      " 8   Average delay of late departing trains (min)                                                                         7806 non-null   float64\n",
      " 9   Average delay of all departing trains (min)                                                                          7743 non-null   float64\n",
      " 10  Comment (optional) delays at departure                                                                               0 non-null      float64\n",
      " 11  Number of trains late on arrival                                                                                     7706 non-null   float64\n",
      " 12  Average delay of late arriving trains (min)                                                                          7705 non-null   float64\n",
      " 13  Average delay of all arriving trains (min)                                                                           7743 non-null   float64\n",
      " 14  Comment (optional) delays on arrival                                                                                 1803 non-null   object \n",
      " 15  % trains late due to external causes (weather, obstacles, suspicious packages, malevolence, social movements, etc.)  7535 non-null   float64\n",
      " 16  % trains late due to railway infrastructure (maintenance, works)                                                     7535 non-null   float64\n",
      " 17  % trains late due to traffic management (rail line traffic, network interactions)                                    7535 non-null   float64\n",
      " 18  % trains late due to rolling stock                                                                                   7535 non-null   float64\n",
      " 19  % trains late due to station management and reuse of material                                                        7535 non-null   float64\n",
      " 20  % trains late due to passenger traffic (affluence, PSH management, connections)                                      7535 non-null   float64\n",
      " 21  Number of late trains > 15min                                                                                        7738 non-null   float64\n",
      " 22  Average train delay > 15min                                                                                          7699 non-null   float64\n",
      " 23  Number of late trains > 30min                                                                                        7738 non-null   float64\n",
      " 24  Number of late trains > 60min                                                                                        7738 non-null   float64\n",
      " 25  Period                                                                                                               7806 non-null   object \n",
      " 26  Delay due to external causes                                                                                         7535 non-null   float64\n",
      " 27  Delay due to railway infrastructure                                                                                  7535 non-null   float64\n",
      " 28  Delay due to traffic management                                                                                      7535 non-null   float64\n",
      " 29  Delay due to rolling stock                                                                                           7535 non-null   float64\n",
      " 30  Delay due to station management and reuse of material                                                                7535 non-null   float64\n",
      " 31  Delay due to travellers taken into account                                                                           7535 non-null   float64\n",
      "dtypes: float64(27), int64(1), object(4)\n",
      "memory usage: 1.9+ MB\n"
     ]
    }
   ],
   "source": [
    "dataset.info()"
   ]
  },
  {
   "cell_type": "code",
   "execution_count": 4,
   "id": "cddfc45d",
   "metadata": {},
   "outputs": [
    {
     "data": {
      "text/plain": [
       "Year                                                                                                                      0\n",
       "Month                                                                                                                     0\n",
       "Departure station                                                                                                         0\n",
       "Arrival station                                                                                                           0\n",
       "Average travel time (min)                                                                                                63\n",
       "Number of expected circulations                                                                                          63\n",
       "Number of cancelled trains                                                                                                0\n",
       "Number of late trains at departure                                                                                        0\n",
       "Average delay of late departing trains (min)                                                                              0\n",
       "Average delay of all departing trains (min)                                                                              63\n",
       "Comment (optional) delays at departure                                                                                 7806\n",
       "Number of trains late on arrival                                                                                        100\n",
       "Average delay of late arriving trains (min)                                                                             101\n",
       "Average delay of all arriving trains (min)                                                                               63\n",
       "Comment (optional) delays on arrival                                                                                   6003\n",
       "% trains late due to external causes (weather, obstacles, suspicious packages, malevolence, social movements, etc.)     271\n",
       "% trains late due to railway infrastructure (maintenance, works)                                                        271\n",
       "% trains late due to traffic management (rail line traffic, network interactions)                                       271\n",
       "% trains late due to rolling stock                                                                                      271\n",
       "% trains late due to station management and reuse of material                                                           271\n",
       "% trains late due to passenger traffic (affluence, PSH management, connections)                                         271\n",
       "Number of late trains > 15min                                                                                            68\n",
       "Average train delay > 15min                                                                                             107\n",
       "Number of late trains > 30min                                                                                            68\n",
       "Number of late trains > 60min                                                                                            68\n",
       "Period                                                                                                                    0\n",
       "Delay due to external causes                                                                                            271\n",
       "Delay due to railway infrastructure                                                                                     271\n",
       "Delay due to traffic management                                                                                         271\n",
       "Delay due to rolling stock                                                                                              271\n",
       "Delay due to station management and reuse of material                                                                   271\n",
       "Delay due to travellers taken into account                                                                              271\n",
       "dtype: int64"
      ]
     },
     "execution_count": 4,
     "metadata": {},
     "output_type": "execute_result"
    }
   ],
   "source": [
    "dataset.isnull().sum()"
   ]
  },
  {
   "cell_type": "code",
   "execution_count": 5,
   "id": "5b86044e",
   "metadata": {},
   "outputs": [],
   "source": [
    "data = dataset.drop(['Comment (optional) delays at departure','Comment (optional) delays on arrival'],axis=1)"
   ]
  },
  {
   "cell_type": "code",
   "execution_count": 6,
   "id": "849e5dec",
   "metadata": {},
   "outputs": [],
   "source": [
    "data = data.dropna()"
   ]
  },
  {
   "cell_type": "code",
   "execution_count": 7,
   "id": "bc2ebcda",
   "metadata": {},
   "outputs": [
    {
     "data": {
      "text/plain": [
       "Year                                                                                                                   0\n",
       "Month                                                                                                                  0\n",
       "Departure station                                                                                                      0\n",
       "Arrival station                                                                                                        0\n",
       "Average travel time (min)                                                                                              0\n",
       "Number of expected circulations                                                                                        0\n",
       "Number of cancelled trains                                                                                             0\n",
       "Number of late trains at departure                                                                                     0\n",
       "Average delay of late departing trains (min)                                                                           0\n",
       "Average delay of all departing trains (min)                                                                            0\n",
       "Number of trains late on arrival                                                                                       0\n",
       "Average delay of late arriving trains (min)                                                                            0\n",
       "Average delay of all arriving trains (min)                                                                             0\n",
       "% trains late due to external causes (weather, obstacles, suspicious packages, malevolence, social movements, etc.)    0\n",
       "% trains late due to railway infrastructure (maintenance, works)                                                       0\n",
       "% trains late due to traffic management (rail line traffic, network interactions)                                      0\n",
       "% trains late due to rolling stock                                                                                     0\n",
       "% trains late due to station management and reuse of material                                                          0\n",
       "% trains late due to passenger traffic (affluence, PSH management, connections)                                        0\n",
       "Number of late trains > 15min                                                                                          0\n",
       "Average train delay > 15min                                                                                            0\n",
       "Number of late trains > 30min                                                                                          0\n",
       "Number of late trains > 60min                                                                                          0\n",
       "Period                                                                                                                 0\n",
       "Delay due to external causes                                                                                           0\n",
       "Delay due to railway infrastructure                                                                                    0\n",
       "Delay due to traffic management                                                                                        0\n",
       "Delay due to rolling stock                                                                                             0\n",
       "Delay due to station management and reuse of material                                                                  0\n",
       "Delay due to travellers taken into account                                                                             0\n",
       "dtype: int64"
      ]
     },
     "execution_count": 7,
     "metadata": {},
     "output_type": "execute_result"
    }
   ],
   "source": [
    "data.isnull().sum()"
   ]
  },
  {
   "cell_type": "code",
   "execution_count": 8,
   "id": "e443c126",
   "metadata": {},
   "outputs": [],
   "source": [
    "categorical = ['Departure station','Arrival station']\n",
    "final_data = pd.get_dummies(data, columns=categorical)"
   ]
  },
  {
   "cell_type": "code",
   "execution_count": 9,
   "id": "1705d325",
   "metadata": {},
   "outputs": [],
   "source": [
    "X = final_data.drop(['Delay due to external causes','Delay due to railway infrastructure','Delay due to traffic management',\n",
    "                     'Delay due to rolling stock','Delay due to station management and reuse of material',\n",
    "                     'Delay due to travellers taken into account','Period'],axis = 1)\n",
    "Y = final_data[['Delay due to external causes','Delay due to railway infrastructure','Delay due to traffic management',\n",
    "                     'Delay due to rolling stock','Delay due to station management and reuse of material',\n",
    "                     'Delay due to travellers taken into account']]"
   ]
  },
  {
   "cell_type": "code",
   "execution_count": 10,
   "id": "eeca7c62",
   "metadata": {},
   "outputs": [],
   "source": [
    "# Split the data into training and testing sets\n",
    "X_train, X_test, Y_train, Y_test = train_test_split(X, Y, test_size=0.2, random_state=1)"
   ]
  },
  {
   "cell_type": "code",
   "execution_count": 11,
   "id": "8baf638e",
   "metadata": {},
   "outputs": [],
   "source": [
    "# Standardize the input features\n",
    "scaler = StandardScaler()\n",
    "X_train = scaler.fit_transform(X_train)\n",
    "X_test = scaler.transform(X_test)"
   ]
  },
  {
   "cell_type": "code",
   "execution_count": 12,
   "id": "f692d87a",
   "metadata": {},
   "outputs": [],
   "source": [
    "# Reshape data for 1D CNN\n",
    "X_train = X_train.reshape(X_train.shape[0], X_train.shape[1], 1)\n",
    "X_test = X_test.reshape(X_test.shape[0], X_test.shape[1], 1)"
   ]
  },
  {
   "cell_type": "code",
   "execution_count": 13,
   "id": "4a440479",
   "metadata": {},
   "outputs": [],
   "source": [
    "# Define the CNN model with additional layers\n",
    "model = keras.Sequential()"
   ]
  },
  {
   "cell_type": "code",
   "execution_count": 15,
   "id": "a6952c10",
   "metadata": {},
   "outputs": [],
   "source": [
    "# Add Convolutional Layers\n",
    "model.add(layers.Conv1D(filters=64, kernel_size=3, activation='relu', input_shape=(X_train.shape[1], 1)))\n",
    "model.add(layers.MaxPooling1D(pool_size=2))\n",
    "model.add(layers.Conv1D(filters=128, kernel_size=3, activation='relu'))\n",
    "model.add(layers.MaxPooling1D(pool_size=2))\n",
    "model.add(layers.Flatten())"
   ]
  },
  {
   "cell_type": "code",
   "execution_count": 16,
   "id": "0dde048e",
   "metadata": {},
   "outputs": [],
   "source": [
    "# Add Dense Layers\n",
    "model.add(layers.Dense(128, activation='relu'))\n",
    "model.add(layers.Dense(64, activation='relu'))"
   ]
  },
  {
   "cell_type": "code",
   "execution_count": 17,
   "id": "e9e0f00e",
   "metadata": {},
   "outputs": [],
   "source": [
    "# Define separate output layers for each target column\n",
    "output_layer_names = Y.columns\n",
    "output_layers = []"
   ]
  },
  {
   "cell_type": "code",
   "execution_count": 18,
   "id": "28725024",
   "metadata": {},
   "outputs": [],
   "source": [
    "for column in output_layer_names:\n",
    "    output_layers.append(layers.Dense(1, name=column))"
   ]
  },
  {
   "cell_type": "code",
   "execution_count": 19,
   "id": "82f166cb",
   "metadata": {},
   "outputs": [],
   "source": [
    "# Compile the model\n",
    "model.compile(optimizer='adam', loss='mean_squared_error', metrics=['mse'], loss_weights=[1.0] * len(output_layers))"
   ]
  },
  {
   "cell_type": "code",
   "execution_count": 23,
   "id": "6e32e33b",
   "metadata": {},
   "outputs": [
    {
     "name": "stdout",
     "output_type": "stream",
     "text": [
      "Epoch 1/100\n",
      "188/188 [==============================] - 4s 23ms/step - loss: 47.5692 - mse: 47.5692\n",
      "Epoch 2/100\n",
      "188/188 [==============================] - 4s 24ms/step - loss: 49.6512 - mse: 49.6512\n",
      "Epoch 3/100\n",
      "188/188 [==============================] - 5s 28ms/step - loss: 48.0054 - mse: 48.0054\n",
      "Epoch 4/100\n",
      "188/188 [==============================] - 8s 42ms/step - loss: 47.1086 - mse: 47.1086\n",
      "Epoch 5/100\n",
      "188/188 [==============================] - 11s 58ms/step - loss: 47.0646 - mse: 47.0646\n",
      "Epoch 6/100\n",
      "188/188 [==============================] - 10s 53ms/step - loss: 46.9735 - mse: 46.9735\n",
      "Epoch 7/100\n",
      "188/188 [==============================] - 10s 51ms/step - loss: 47.0838 - mse: 47.0838\n",
      "Epoch 8/100\n",
      "188/188 [==============================] - 8s 40ms/step - loss: 47.1529 - mse: 47.1529\n",
      "Epoch 9/100\n",
      "188/188 [==============================] - 9s 50ms/step - loss: 46.8957 - mse: 46.8957\n",
      "Epoch 10/100\n",
      "188/188 [==============================] - 10s 51ms/step - loss: 47.4308 - mse: 47.4308\n",
      "Epoch 11/100\n",
      "188/188 [==============================] - 9s 50ms/step - loss: 47.7935 - mse: 47.7935\n",
      "Epoch 12/100\n",
      "188/188 [==============================] - 10s 53ms/step - loss: 48.0654 - mse: 48.0654\n",
      "Epoch 13/100\n",
      "188/188 [==============================] - 10s 52ms/step - loss: 47.6507 - mse: 47.6507\n",
      "Epoch 14/100\n",
      "188/188 [==============================] - 11s 56ms/step - loss: 47.3604 - mse: 47.3604\n",
      "Epoch 15/100\n",
      "188/188 [==============================] - 11s 57ms/step - loss: 47.8289 - mse: 47.8289\n",
      "Epoch 16/100\n",
      "188/188 [==============================] - 9s 49ms/step - loss: 47.3376 - mse: 47.3376\n",
      "Epoch 17/100\n",
      "188/188 [==============================] - 9s 49ms/step - loss: 46.8951 - mse: 46.8951\n",
      "Epoch 18/100\n",
      "188/188 [==============================] - 9s 49ms/step - loss: 46.9919 - mse: 46.9919\n",
      "Epoch 19/100\n",
      "188/188 [==============================] - 10s 52ms/step - loss: 47.0196 - mse: 47.0196\n",
      "Epoch 20/100\n",
      "188/188 [==============================] - 10s 51ms/step - loss: 47.1387 - mse: 47.1387\n",
      "Epoch 21/100\n",
      "188/188 [==============================] - 9s 49ms/step - loss: 46.9436 - mse: 46.9436\n",
      "Epoch 22/100\n",
      "188/188 [==============================] - 10s 53ms/step - loss: 46.8881 - mse: 46.8881\n",
      "Epoch 23/100\n",
      "188/188 [==============================] - 10s 52ms/step - loss: 46.8886 - mse: 46.8886\n",
      "Epoch 24/100\n",
      "188/188 [==============================] - 11s 56ms/step - loss: 46.9541 - mse: 46.9541\n",
      "Epoch 25/100\n",
      "188/188 [==============================] - 10s 55ms/step - loss: 46.8660 - mse: 46.8660\n",
      "Epoch 26/100\n",
      "188/188 [==============================] - 10s 55ms/step - loss: 47.2412 - mse: 47.2412\n",
      "Epoch 27/100\n",
      "188/188 [==============================] - 10s 52ms/step - loss: 46.9017 - mse: 46.9017\n",
      "Epoch 28/100\n",
      "188/188 [==============================] - 10s 52ms/step - loss: 47.1745 - mse: 47.1745\n",
      "Epoch 29/100\n",
      "188/188 [==============================] - 10s 55ms/step - loss: 47.1213 - mse: 47.1213\n",
      "Epoch 30/100\n",
      "188/188 [==============================] - 9s 50ms/step - loss: 47.4824 - mse: 47.4824\n",
      "Epoch 31/100\n",
      "188/188 [==============================] - 9s 50ms/step - loss: 47.6453 - mse: 47.6453\n",
      "Epoch 32/100\n",
      "188/188 [==============================] - 10s 53ms/step - loss: 47.1107 - mse: 47.1107\n",
      "Epoch 33/100\n",
      "188/188 [==============================] - 10s 53ms/step - loss: 47.1372 - mse: 47.1372\n",
      "Epoch 34/100\n",
      "188/188 [==============================] - 10s 52ms/step - loss: 47.2216 - mse: 47.2216\n",
      "Epoch 35/100\n",
      "188/188 [==============================] - 5s 24ms/step - loss: 46.8287 - mse: 46.8287\n",
      "Epoch 36/100\n",
      "188/188 [==============================] - 4s 24ms/step - loss: 46.9006 - mse: 46.9006\n",
      "Epoch 37/100\n",
      "188/188 [==============================] - 5s 24ms/step - loss: 46.7995 - mse: 46.7995\n",
      "Epoch 38/100\n",
      "188/188 [==============================] - 4s 24ms/step - loss: 46.7837 - mse: 46.7837\n",
      "Epoch 39/100\n",
      "188/188 [==============================] - 5s 25ms/step - loss: 46.9652 - mse: 46.9652\n",
      "Epoch 40/100\n",
      "188/188 [==============================] - 4s 23ms/step - loss: 47.3242 - mse: 47.3242\n",
      "Epoch 41/100\n",
      "188/188 [==============================] - 5s 24ms/step - loss: 47.0354 - mse: 47.0354\n",
      "Epoch 42/100\n",
      "188/188 [==============================] - 4s 24ms/step - loss: 47.0483 - mse: 47.0483\n",
      "Epoch 43/100\n",
      "188/188 [==============================] - 4s 23ms/step - loss: 46.9406 - mse: 46.9406\n",
      "Epoch 44/100\n",
      "188/188 [==============================] - 4s 23ms/step - loss: 46.8045 - mse: 46.8045\n",
      "Epoch 45/100\n",
      "188/188 [==============================] - 4s 23ms/step - loss: 46.7152 - mse: 46.7152\n",
      "Epoch 46/100\n",
      "188/188 [==============================] - 5s 24ms/step - loss: 46.8418 - mse: 46.8418\n",
      "Epoch 47/100\n",
      "188/188 [==============================] - 4s 24ms/step - loss: 47.0388 - mse: 47.0388\n",
      "Epoch 48/100\n",
      "188/188 [==============================] - 4s 22ms/step - loss: 46.7794 - mse: 46.7794\n",
      "Epoch 49/100\n",
      "188/188 [==============================] - 4s 23ms/step - loss: 47.0579 - mse: 47.0579\n",
      "Epoch 50/100\n",
      "188/188 [==============================] - 4s 24ms/step - loss: 47.1425 - mse: 47.1425\n",
      "Epoch 51/100\n",
      "188/188 [==============================] - 4s 23ms/step - loss: 47.1743 - mse: 47.1743\n",
      "Epoch 52/100\n",
      "188/188 [==============================] - 4s 23ms/step - loss: 47.5207 - mse: 47.5207\n",
      "Epoch 53/100\n",
      "188/188 [==============================] - 4s 23ms/step - loss: 47.8622 - mse: 47.8622\n",
      "Epoch 54/100\n",
      "188/188 [==============================] - 5s 25ms/step - loss: 47.1162 - mse: 47.1162\n",
      "Epoch 55/100\n",
      "188/188 [==============================] - 4s 23ms/step - loss: 46.8592 - mse: 46.8592\n",
      "Epoch 56/100\n",
      "188/188 [==============================] - 5s 25ms/step - loss: 46.7757 - mse: 46.7757\n",
      "Epoch 57/100\n",
      "188/188 [==============================] - 4s 23ms/step - loss: 46.7531 - mse: 46.7531\n",
      "Epoch 58/100\n",
      "188/188 [==============================] - 4s 24ms/step - loss: 46.8247 - mse: 46.8247\n",
      "Epoch 59/100\n",
      "188/188 [==============================] - 4s 24ms/step - loss: 46.8018 - mse: 46.8018\n",
      "Epoch 60/100\n",
      "188/188 [==============================] - 4s 23ms/step - loss: 46.7421 - mse: 46.7421\n",
      "Epoch 61/100\n",
      "188/188 [==============================] - 5s 25ms/step - loss: 46.6297 - mse: 46.6297\n",
      "Epoch 62/100\n",
      "188/188 [==============================] - 5s 24ms/step - loss: 46.6558 - mse: 46.6558\n",
      "Epoch 63/100\n",
      "188/188 [==============================] - 5s 24ms/step - loss: 46.6552 - mse: 46.6552\n",
      "Epoch 64/100\n",
      "188/188 [==============================] - 5s 25ms/step - loss: 46.8568 - mse: 46.8568\n",
      "Epoch 65/100\n",
      "188/188 [==============================] - 5s 25ms/step - loss: 47.1365 - mse: 47.1365\n",
      "Epoch 66/100\n",
      "188/188 [==============================] - 5s 25ms/step - loss: 47.1597 - mse: 47.1597\n",
      "Epoch 67/100\n",
      "188/188 [==============================] - 5s 25ms/step - loss: 47.2680 - mse: 47.2680\n",
      "Epoch 68/100\n",
      "188/188 [==============================] - 5s 27ms/step - loss: 46.9671 - mse: 46.9671\n",
      "Epoch 69/100\n",
      "188/188 [==============================] - 5s 25ms/step - loss: 46.7136 - mse: 46.7136\n",
      "Epoch 70/100\n",
      "188/188 [==============================] - 5s 25ms/step - loss: 46.6743 - mse: 46.6743\n",
      "Epoch 71/100\n",
      "188/188 [==============================] - 5s 24ms/step - loss: 46.8614 - mse: 46.8614\n",
      "Epoch 72/100\n",
      "188/188 [==============================] - 5s 24ms/step - loss: 47.2364 - mse: 47.2364\n",
      "Epoch 73/100\n",
      "188/188 [==============================] - 5s 24ms/step - loss: 46.9090 - mse: 46.9090\n",
      "Epoch 74/100\n",
      "188/188 [==============================] - 5s 25ms/step - loss: 46.8918 - mse: 46.8918\n",
      "Epoch 75/100\n",
      "188/188 [==============================] - 5s 25ms/step - loss: 46.9245 - mse: 46.9245\n",
      "Epoch 76/100\n",
      "188/188 [==============================] - 5s 24ms/step - loss: 46.8128 - mse: 46.8128\n",
      "Epoch 77/100\n",
      "188/188 [==============================] - 5s 25ms/step - loss: 46.7137 - mse: 46.7137\n",
      "Epoch 78/100\n",
      "188/188 [==============================] - 4s 23ms/step - loss: 46.6848 - mse: 46.6848\n",
      "Epoch 79/100\n",
      "188/188 [==============================] - 4s 23ms/step - loss: 46.8992 - mse: 46.8992\n",
      "Epoch 80/100\n",
      "188/188 [==============================] - 4s 24ms/step - loss: 46.9404 - mse: 46.9404\n",
      "Epoch 81/100\n",
      "188/188 [==============================] - 5s 24ms/step - loss: 46.9610 - mse: 46.9610\n",
      "Epoch 82/100\n"
     ]
    },
    {
     "name": "stdout",
     "output_type": "stream",
     "text": [
      "188/188 [==============================] - 4s 23ms/step - loss: 46.8565 - mse: 46.8565\n",
      "Epoch 83/100\n",
      "188/188 [==============================] - 5s 24ms/step - loss: 46.6719 - mse: 46.6719\n",
      "Epoch 84/100\n",
      "188/188 [==============================] - 4s 23ms/step - loss: 46.6949 - mse: 46.6949\n",
      "Epoch 85/100\n",
      "188/188 [==============================] - 4s 23ms/step - loss: 46.6509 - mse: 46.6509\n",
      "Epoch 86/100\n",
      "188/188 [==============================] - 4s 23ms/step - loss: 46.6811 - mse: 46.6811\n",
      "Epoch 87/100\n",
      "188/188 [==============================] - 5s 24ms/step - loss: 46.6937 - mse: 46.6937\n",
      "Epoch 88/100\n",
      "188/188 [==============================] - 4s 24ms/step - loss: 46.6500 - mse: 46.6500\n",
      "Epoch 89/100\n",
      "188/188 [==============================] - 4s 22ms/step - loss: 46.7116 - mse: 46.7116\n",
      "Epoch 90/100\n",
      "188/188 [==============================] - 4s 23ms/step - loss: 46.8531 - mse: 46.8531\n",
      "Epoch 91/100\n",
      "188/188 [==============================] - 4s 22ms/step - loss: 46.7997 - mse: 46.7997\n",
      "Epoch 92/100\n",
      "188/188 [==============================] - 4s 22ms/step - loss: 46.7203 - mse: 46.7203\n",
      "Epoch 93/100\n",
      "188/188 [==============================] - 4s 22ms/step - loss: 46.7434 - mse: 46.7434\n",
      "Epoch 94/100\n",
      "188/188 [==============================] - 4s 22ms/step - loss: 47.0209 - mse: 47.0209\n",
      "Epoch 95/100\n",
      "188/188 [==============================] - 4s 23ms/step - loss: 46.9942 - mse: 46.9942\n",
      "Epoch 96/100\n",
      "188/188 [==============================] - 4s 22ms/step - loss: 46.6893 - mse: 46.6893\n",
      "Epoch 97/100\n",
      "188/188 [==============================] - 4s 23ms/step - loss: 46.6002 - mse: 46.6002\n",
      "Epoch 98/100\n",
      "188/188 [==============================] - 5s 25ms/step - loss: 46.7798 - mse: 46.7798\n",
      "Epoch 99/100\n",
      "188/188 [==============================] - 4s 24ms/step - loss: 46.8949 - mse: 46.8949\n",
      "Epoch 100/100\n",
      "188/188 [==============================] - 4s 23ms/step - loss: 46.7226 - mse: 46.7226\n"
     ]
    },
    {
     "data": {
      "text/plain": [
       "<keras.callbacks.History at 0x261bd1415e0>"
      ]
     },
     "execution_count": 23,
     "metadata": {},
     "output_type": "execute_result"
    }
   ],
   "source": [
    "# Train the model\n",
    "model.fit(X_train, [Y_train[column] for column in output_layer_names], epochs=100, batch_size=32, verbose=1)"
   ]
  },
  {
   "cell_type": "code",
   "execution_count": 24,
   "id": "c908cf5e",
   "metadata": {},
   "outputs": [
    {
     "name": "stdout",
     "output_type": "stream",
     "text": [
      "47/47 [==============================] - 0s 9ms/step\n"
     ]
    }
   ],
   "source": [
    "# Evaluate the model using MSE\n",
    "Y_pred = model.predict(X_test)\n",
    "\n",
    "# Calculate the mean squared error for each target column\n",
    "mse = [mean_squared_error(Y_test[column], Y_pred[:, i]) for i, column in enumerate(output_layer_names)]\n"
   ]
  },
  {
   "cell_type": "code",
   "execution_count": 25,
   "id": "5e070baf",
   "metadata": {},
   "outputs": [
    {
     "name": "stdout",
     "output_type": "stream",
     "text": [
      "Mean Squared Error for Delay due to external causes: 0.5578336794482416\n",
      "Mean Squared Error for Delay due to railway infrastructure: 652.7434515875493\n",
      "Mean Squared Error for Delay due to traffic management: 683.2585369464655\n",
      "Mean Squared Error for Delay due to rolling stock: 533.0799331121325\n",
      "Mean Squared Error for Delay due to station management and reuse of material: 712.2454853641736\n",
      "Mean Squared Error for Delay due to travellers taken into account: 802.4657486261025\n"
     ]
    }
   ],
   "source": [
    "# Print the mean squared error for each target column\n",
    "for i, column in enumerate(output_layer_names):\n",
    "    print(f\"Mean Squared Error for {column}: {mse[i]}\")"
   ]
  },
  {
   "cell_type": "code",
   "execution_count": null,
   "id": "39a5eb3a",
   "metadata": {},
   "outputs": [],
   "source": []
  }
 ],
 "metadata": {
  "kernelspec": {
   "display_name": "Python 3 (ipykernel)",
   "language": "python",
   "name": "python3"
  },
  "language_info": {
   "codemirror_mode": {
    "name": "ipython",
    "version": 3
   },
   "file_extension": ".py",
   "mimetype": "text/x-python",
   "name": "python",
   "nbconvert_exporter": "python",
   "pygments_lexer": "ipython3",
   "version": "3.9.12"
  }
 },
 "nbformat": 4,
 "nbformat_minor": 5
}
